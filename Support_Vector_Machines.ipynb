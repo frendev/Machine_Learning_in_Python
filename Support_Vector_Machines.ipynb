{
  "nbformat": 4,
  "nbformat_minor": 0,
  "metadata": {
    "colab": {
      "name": "Support_Vector_Machines.ipynb",
      "provenance": [],
      "authorship_tag": "ABX9TyPqpkMe8jeNHt5VgmHGDVFt",
      "include_colab_link": true
    },
    "kernelspec": {
      "name": "python3",
      "display_name": "Python 3"
    }
  },
  "cells": [
    {
      "cell_type": "markdown",
      "metadata": {
        "id": "view-in-github",
        "colab_type": "text"
      },
      "source": [
        "<a href=\"https://colab.research.google.com/github/frendev/Machine_Learning_in_Python/blob/master/Support_Vector_Machines.ipynb\" target=\"_parent\"><img src=\"https://colab.research.google.com/assets/colab-badge.svg\" alt=\"Open In Colab\"/></a>"
      ]
    },
    {
      "cell_type": "code",
      "metadata": {
        "id": "PxS3aPxovh4a",
        "colab_type": "code",
        "colab": {
          "base_uri": "https://localhost:8080/",
          "height": 70
        },
        "outputId": "ce57433c-af6d-4a15-fe7a-03e7895237a0"
      },
      "source": [
        "from google.colab import files\n",
        "import pandas as pd\n",
        "import numpy as np\n",
        "import matplotlib.pyplot as plt\n",
        "import seaborn as sns\n",
        "%matplotlib inline"
      ],
      "execution_count": 1,
      "outputs": [
        {
          "output_type": "stream",
          "text": [
            "/usr/local/lib/python3.6/dist-packages/statsmodels/tools/_testing.py:19: FutureWarning: pandas.util.testing is deprecated. Use the functions in the public API at pandas.testing instead.\n",
            "  import pandas.util.testing as tm\n"
          ],
          "name": "stderr"
        }
      ]
    },
    {
      "cell_type": "code",
      "metadata": {
        "id": "_CYfHFryvwVM",
        "colab_type": "code",
        "colab": {}
      },
      "source": [
        "#Import dataset-\n",
        "from sklearn.datasets import load_breast_cancer\n",
        "cancer_d=load_breast_cancer()"
      ],
      "execution_count": 0,
      "outputs": []
    },
    {
      "cell_type": "code",
      "metadata": {
        "id": "vHiE5si2v8cl",
        "colab_type": "code",
        "colab": {}
      },
      "source": [
        "#creating a dataframe-\n",
        "df_feat=pd.DataFrame(cancer_d.data,columns=cancer_d['feature_names'])"
      ],
      "execution_count": 0,
      "outputs": []
    },
    {
      "cell_type": "code",
      "metadata": {
        "id": "Pb5iGveiwDVi",
        "colab_type": "code",
        "colab": {
          "base_uri": "https://localhost:8080/",
          "height": 249
        },
        "outputId": "bd3201ba-246f-4649-f462-e134bbd7d1a9"
      },
      "source": [
        "df_feat.head()"
      ],
      "execution_count": 13,
      "outputs": [
        {
          "output_type": "execute_result",
          "data": {
            "text/html": [
              "<div>\n",
              "<style scoped>\n",
              "    .dataframe tbody tr th:only-of-type {\n",
              "        vertical-align: middle;\n",
              "    }\n",
              "\n",
              "    .dataframe tbody tr th {\n",
              "        vertical-align: top;\n",
              "    }\n",
              "\n",
              "    .dataframe thead th {\n",
              "        text-align: right;\n",
              "    }\n",
              "</style>\n",
              "<table border=\"1\" class=\"dataframe\">\n",
              "  <thead>\n",
              "    <tr style=\"text-align: right;\">\n",
              "      <th></th>\n",
              "      <th>mean radius</th>\n",
              "      <th>mean texture</th>\n",
              "      <th>mean perimeter</th>\n",
              "      <th>mean area</th>\n",
              "      <th>mean smoothness</th>\n",
              "      <th>mean compactness</th>\n",
              "      <th>mean concavity</th>\n",
              "      <th>mean concave points</th>\n",
              "      <th>mean symmetry</th>\n",
              "      <th>mean fractal dimension</th>\n",
              "      <th>radius error</th>\n",
              "      <th>texture error</th>\n",
              "      <th>perimeter error</th>\n",
              "      <th>area error</th>\n",
              "      <th>smoothness error</th>\n",
              "      <th>compactness error</th>\n",
              "      <th>concavity error</th>\n",
              "      <th>concave points error</th>\n",
              "      <th>symmetry error</th>\n",
              "      <th>fractal dimension error</th>\n",
              "      <th>worst radius</th>\n",
              "      <th>worst texture</th>\n",
              "      <th>worst perimeter</th>\n",
              "      <th>worst area</th>\n",
              "      <th>worst smoothness</th>\n",
              "      <th>worst compactness</th>\n",
              "      <th>worst concavity</th>\n",
              "      <th>worst concave points</th>\n",
              "      <th>worst symmetry</th>\n",
              "      <th>worst fractal dimension</th>\n",
              "    </tr>\n",
              "  </thead>\n",
              "  <tbody>\n",
              "    <tr>\n",
              "      <th>0</th>\n",
              "      <td>17.99</td>\n",
              "      <td>10.38</td>\n",
              "      <td>122.80</td>\n",
              "      <td>1001.0</td>\n",
              "      <td>0.11840</td>\n",
              "      <td>0.27760</td>\n",
              "      <td>0.3001</td>\n",
              "      <td>0.14710</td>\n",
              "      <td>0.2419</td>\n",
              "      <td>0.07871</td>\n",
              "      <td>1.0950</td>\n",
              "      <td>0.9053</td>\n",
              "      <td>8.589</td>\n",
              "      <td>153.40</td>\n",
              "      <td>0.006399</td>\n",
              "      <td>0.04904</td>\n",
              "      <td>0.05373</td>\n",
              "      <td>0.01587</td>\n",
              "      <td>0.03003</td>\n",
              "      <td>0.006193</td>\n",
              "      <td>25.38</td>\n",
              "      <td>17.33</td>\n",
              "      <td>184.60</td>\n",
              "      <td>2019.0</td>\n",
              "      <td>0.1622</td>\n",
              "      <td>0.6656</td>\n",
              "      <td>0.7119</td>\n",
              "      <td>0.2654</td>\n",
              "      <td>0.4601</td>\n",
              "      <td>0.11890</td>\n",
              "    </tr>\n",
              "    <tr>\n",
              "      <th>1</th>\n",
              "      <td>20.57</td>\n",
              "      <td>17.77</td>\n",
              "      <td>132.90</td>\n",
              "      <td>1326.0</td>\n",
              "      <td>0.08474</td>\n",
              "      <td>0.07864</td>\n",
              "      <td>0.0869</td>\n",
              "      <td>0.07017</td>\n",
              "      <td>0.1812</td>\n",
              "      <td>0.05667</td>\n",
              "      <td>0.5435</td>\n",
              "      <td>0.7339</td>\n",
              "      <td>3.398</td>\n",
              "      <td>74.08</td>\n",
              "      <td>0.005225</td>\n",
              "      <td>0.01308</td>\n",
              "      <td>0.01860</td>\n",
              "      <td>0.01340</td>\n",
              "      <td>0.01389</td>\n",
              "      <td>0.003532</td>\n",
              "      <td>24.99</td>\n",
              "      <td>23.41</td>\n",
              "      <td>158.80</td>\n",
              "      <td>1956.0</td>\n",
              "      <td>0.1238</td>\n",
              "      <td>0.1866</td>\n",
              "      <td>0.2416</td>\n",
              "      <td>0.1860</td>\n",
              "      <td>0.2750</td>\n",
              "      <td>0.08902</td>\n",
              "    </tr>\n",
              "    <tr>\n",
              "      <th>2</th>\n",
              "      <td>19.69</td>\n",
              "      <td>21.25</td>\n",
              "      <td>130.00</td>\n",
              "      <td>1203.0</td>\n",
              "      <td>0.10960</td>\n",
              "      <td>0.15990</td>\n",
              "      <td>0.1974</td>\n",
              "      <td>0.12790</td>\n",
              "      <td>0.2069</td>\n",
              "      <td>0.05999</td>\n",
              "      <td>0.7456</td>\n",
              "      <td>0.7869</td>\n",
              "      <td>4.585</td>\n",
              "      <td>94.03</td>\n",
              "      <td>0.006150</td>\n",
              "      <td>0.04006</td>\n",
              "      <td>0.03832</td>\n",
              "      <td>0.02058</td>\n",
              "      <td>0.02250</td>\n",
              "      <td>0.004571</td>\n",
              "      <td>23.57</td>\n",
              "      <td>25.53</td>\n",
              "      <td>152.50</td>\n",
              "      <td>1709.0</td>\n",
              "      <td>0.1444</td>\n",
              "      <td>0.4245</td>\n",
              "      <td>0.4504</td>\n",
              "      <td>0.2430</td>\n",
              "      <td>0.3613</td>\n",
              "      <td>0.08758</td>\n",
              "    </tr>\n",
              "    <tr>\n",
              "      <th>3</th>\n",
              "      <td>11.42</td>\n",
              "      <td>20.38</td>\n",
              "      <td>77.58</td>\n",
              "      <td>386.1</td>\n",
              "      <td>0.14250</td>\n",
              "      <td>0.28390</td>\n",
              "      <td>0.2414</td>\n",
              "      <td>0.10520</td>\n",
              "      <td>0.2597</td>\n",
              "      <td>0.09744</td>\n",
              "      <td>0.4956</td>\n",
              "      <td>1.1560</td>\n",
              "      <td>3.445</td>\n",
              "      <td>27.23</td>\n",
              "      <td>0.009110</td>\n",
              "      <td>0.07458</td>\n",
              "      <td>0.05661</td>\n",
              "      <td>0.01867</td>\n",
              "      <td>0.05963</td>\n",
              "      <td>0.009208</td>\n",
              "      <td>14.91</td>\n",
              "      <td>26.50</td>\n",
              "      <td>98.87</td>\n",
              "      <td>567.7</td>\n",
              "      <td>0.2098</td>\n",
              "      <td>0.8663</td>\n",
              "      <td>0.6869</td>\n",
              "      <td>0.2575</td>\n",
              "      <td>0.6638</td>\n",
              "      <td>0.17300</td>\n",
              "    </tr>\n",
              "    <tr>\n",
              "      <th>4</th>\n",
              "      <td>20.29</td>\n",
              "      <td>14.34</td>\n",
              "      <td>135.10</td>\n",
              "      <td>1297.0</td>\n",
              "      <td>0.10030</td>\n",
              "      <td>0.13280</td>\n",
              "      <td>0.1980</td>\n",
              "      <td>0.10430</td>\n",
              "      <td>0.1809</td>\n",
              "      <td>0.05883</td>\n",
              "      <td>0.7572</td>\n",
              "      <td>0.7813</td>\n",
              "      <td>5.438</td>\n",
              "      <td>94.44</td>\n",
              "      <td>0.011490</td>\n",
              "      <td>0.02461</td>\n",
              "      <td>0.05688</td>\n",
              "      <td>0.01885</td>\n",
              "      <td>0.01756</td>\n",
              "      <td>0.005115</td>\n",
              "      <td>22.54</td>\n",
              "      <td>16.67</td>\n",
              "      <td>152.20</td>\n",
              "      <td>1575.0</td>\n",
              "      <td>0.1374</td>\n",
              "      <td>0.2050</td>\n",
              "      <td>0.4000</td>\n",
              "      <td>0.1625</td>\n",
              "      <td>0.2364</td>\n",
              "      <td>0.07678</td>\n",
              "    </tr>\n",
              "  </tbody>\n",
              "</table>\n",
              "</div>"
            ],
            "text/plain": [
              "   mean radius  mean texture  ...  worst symmetry  worst fractal dimension\n",
              "0        17.99         10.38  ...          0.4601                  0.11890\n",
              "1        20.57         17.77  ...          0.2750                  0.08902\n",
              "2        19.69         21.25  ...          0.3613                  0.08758\n",
              "3        11.42         20.38  ...          0.6638                  0.17300\n",
              "4        20.29         14.34  ...          0.2364                  0.07678\n",
              "\n",
              "[5 rows x 30 columns]"
            ]
          },
          "metadata": {
            "tags": []
          },
          "execution_count": 13
        }
      ]
    },
    {
      "cell_type": "code",
      "metadata": {
        "id": "kGiEQXPJwmPf",
        "colab_type": "code",
        "colab": {
          "base_uri": "https://localhost:8080/",
          "height": 34
        },
        "outputId": "161d88e7-400f-451d-d73d-c41105f1ad7a"
      },
      "source": [
        "#what we want to find\n",
        "cancer_d['target_names']"
      ],
      "execution_count": 15,
      "outputs": [
        {
          "output_type": "execute_result",
          "data": {
            "text/plain": [
              "array(['malignant', 'benign'], dtype='<U9')"
            ]
          },
          "metadata": {
            "tags": []
          },
          "execution_count": 15
        }
      ]
    },
    {
      "cell_type": "code",
      "metadata": {
        "id": "DYX3zKpRx64X",
        "colab_type": "code",
        "colab": {}
      },
      "source": [
        " #train_test_split\n",
        " from sklearn.model_selection import train_test_split,GridSearchCV\n",
        " X=df_feat\n",
        " y=cancer_d['target']\n",
        " X_train, X_test, y_train, y_test = train_test_split(X, y, test_size = .3, random_state = 101)"
      ],
      "execution_count": 0,
      "outputs": []
    },
    {
      "cell_type": "code",
      "metadata": {
        "id": "NnMxYGhy1cXA",
        "colab_type": "code",
        "colab": {}
      },
      "source": [
        "param_grid={'C':[0.1,1,10,100,1000],'gamma':[1,0.1,0.01,0.001,0.0001]}"
      ],
      "execution_count": 0,
      "outputs": []
    },
    {
      "cell_type": "code",
      "metadata": {
        "id": "7ahvEUw50Irv",
        "colab_type": "code",
        "colab": {}
      },
      "source": [
        "grid=GridSearchCV(SVC(),param_grid,verbose=3)"
      ],
      "execution_count": 0,
      "outputs": []
    },
    {
      "cell_type": "code",
      "metadata": {
        "id": "3wZ9DsyW4bHO",
        "colab_type": "code",
        "colab": {
          "base_uri": "https://localhost:8080/",
          "height": 1000
        },
        "outputId": "cc54d663-6c70-4d26-de81-4a793145793d"
      },
      "source": [
        "grid.fit(X_train,y_train)"
      ],
      "execution_count": 31,
      "outputs": [
        {
          "output_type": "stream",
          "text": [
            "Fitting 5 folds for each of 25 candidates, totalling 125 fits\n",
            "[CV] C=0.1, gamma=1 ..................................................\n",
            "[CV] ...................... C=0.1, gamma=1, score=0.637, total=   0.0s\n",
            "[CV] C=0.1, gamma=1 ..................................................\n",
            "[CV] ...................... C=0.1, gamma=1, score=0.637, total=   0.0s\n",
            "[CV] C=0.1, gamma=1 ..................................................\n",
            "[CV] ...................... C=0.1, gamma=1, score=0.625, total=   0.0s\n",
            "[CV] C=0.1, gamma=1 ..................................................\n",
            "[CV] ...................... C=0.1, gamma=1, score=0.633, total=   0.0s\n",
            "[CV] C=0.1, gamma=1 ..................................................\n",
            "[CV] ...................... C=0.1, gamma=1, score=0.633, total=   0.0s\n",
            "[CV] C=0.1, gamma=0.1 ................................................\n",
            "[CV] .................... C=0.1, gamma=0.1, score=0.637, total=   0.0s\n",
            "[CV] C=0.1, gamma=0.1 ................................................\n",
            "[CV] .................... C=0.1, gamma=0.1, score=0.637, total=   0.0s\n",
            "[CV] C=0.1, gamma=0.1 ................................................\n",
            "[CV] .................... C=0.1, gamma=0.1, score=0.625, total=   0.0s\n",
            "[CV] C=0.1, gamma=0.1 ................................................\n",
            "[CV] .................... C=0.1, gamma=0.1, score=0.633, total=   0.0s\n",
            "[CV] C=0.1, gamma=0.1 ................................................\n",
            "[CV] .................... C=0.1, gamma=0.1, score=0.633, total=   0.0s\n",
            "[CV] C=0.1, gamma=0.01 ...............................................\n",
            "[CV] ................... C=0.1, gamma=0.01, score=0.637, total=   0.0s\n",
            "[CV] C=0.1, gamma=0.01 ...............................................\n",
            "[CV] ................... C=0.1, gamma=0.01, score=0.637, total=   0.0s\n",
            "[CV] C=0.1, gamma=0.01 ...............................................\n",
            "[CV] ................... C=0.1, gamma=0.01, score=0.625, total=   0.0s\n",
            "[CV] C=0.1, gamma=0.01 ...............................................\n",
            "[CV] ................... C=0.1, gamma=0.01, score=0.633, total=   0.0s\n",
            "[CV] C=0.1, gamma=0.01 ...............................................\n",
            "[CV] ................... C=0.1, gamma=0.01, score=0.633, total=   0.0s\n",
            "[CV] C=0.1, gamma=0.001 ..............................................\n"
          ],
          "name": "stdout"
        },
        {
          "output_type": "stream",
          "text": [
            "[Parallel(n_jobs=1)]: Using backend SequentialBackend with 1 concurrent workers.\n",
            "[Parallel(n_jobs=1)]: Done   1 out of   1 | elapsed:    0.0s remaining:    0.0s\n",
            "[Parallel(n_jobs=1)]: Done   2 out of   2 | elapsed:    0.0s remaining:    0.0s\n"
          ],
          "name": "stderr"
        },
        {
          "output_type": "stream",
          "text": [
            "[CV] .................. C=0.1, gamma=0.001, score=0.637, total=   0.0s\n",
            "[CV] C=0.1, gamma=0.001 ..............................................\n",
            "[CV] .................. C=0.1, gamma=0.001, score=0.637, total=   0.0s\n",
            "[CV] C=0.1, gamma=0.001 ..............................................\n",
            "[CV] .................. C=0.1, gamma=0.001, score=0.625, total=   0.0s\n",
            "[CV] C=0.1, gamma=0.001 ..............................................\n",
            "[CV] .................. C=0.1, gamma=0.001, score=0.633, total=   0.0s\n",
            "[CV] C=0.1, gamma=0.001 ..............................................\n",
            "[CV] .................. C=0.1, gamma=0.001, score=0.633, total=   0.0s\n",
            "[CV] C=0.1, gamma=0.0001 .............................................\n",
            "[CV] ................. C=0.1, gamma=0.0001, score=0.887, total=   0.0s\n",
            "[CV] C=0.1, gamma=0.0001 .............................................\n",
            "[CV] ................. C=0.1, gamma=0.0001, score=0.938, total=   0.0s\n",
            "[CV] C=0.1, gamma=0.0001 .............................................\n",
            "[CV] ................. C=0.1, gamma=0.0001, score=0.963, total=   0.0s\n",
            "[CV] C=0.1, gamma=0.0001 .............................................\n",
            "[CV] ................. C=0.1, gamma=0.0001, score=0.962, total=   0.0s\n",
            "[CV] C=0.1, gamma=0.0001 .............................................\n",
            "[CV] ................. C=0.1, gamma=0.0001, score=0.886, total=   0.0s\n",
            "[CV] C=1, gamma=1 ....................................................\n",
            "[CV] ........................ C=1, gamma=1, score=0.637, total=   0.0s\n",
            "[CV] C=1, gamma=1 ....................................................\n",
            "[CV] ........................ C=1, gamma=1, score=0.637, total=   0.0s\n",
            "[CV] C=1, gamma=1 ....................................................\n",
            "[CV] ........................ C=1, gamma=1, score=0.625, total=   0.0s\n",
            "[CV] C=1, gamma=1 ....................................................\n",
            "[CV] ........................ C=1, gamma=1, score=0.633, total=   0.0s\n",
            "[CV] C=1, gamma=1 ....................................................\n",
            "[CV] ........................ C=1, gamma=1, score=0.633, total=   0.0s\n",
            "[CV] C=1, gamma=0.1 ..................................................\n",
            "[CV] ...................... C=1, gamma=0.1, score=0.637, total=   0.0s\n",
            "[CV] C=1, gamma=0.1 ..................................................\n",
            "[CV] ...................... C=1, gamma=0.1, score=0.637, total=   0.0s\n",
            "[CV] C=1, gamma=0.1 ..................................................\n",
            "[CV] ...................... C=1, gamma=0.1, score=0.625, total=   0.0s\n",
            "[CV] C=1, gamma=0.1 ..................................................\n",
            "[CV] ...................... C=1, gamma=0.1, score=0.633, total=   0.0s\n",
            "[CV] C=1, gamma=0.1 ..................................................\n",
            "[CV] ...................... C=1, gamma=0.1, score=0.633, total=   0.0s\n",
            "[CV] C=1, gamma=0.01 .................................................\n",
            "[CV] ..................... C=1, gamma=0.01, score=0.637, total=   0.0s\n",
            "[CV] C=1, gamma=0.01 .................................................\n",
            "[CV] ..................... C=1, gamma=0.01, score=0.637, total=   0.0s\n",
            "[CV] C=1, gamma=0.01 .................................................\n",
            "[CV] ..................... C=1, gamma=0.01, score=0.625, total=   0.0s\n",
            "[CV] C=1, gamma=0.01 .................................................\n",
            "[CV] ..................... C=1, gamma=0.01, score=0.633, total=   0.0s\n",
            "[CV] C=1, gamma=0.01 .................................................\n",
            "[CV] ..................... C=1, gamma=0.01, score=0.633, total=   0.0s\n",
            "[CV] C=1, gamma=0.001 ................................................\n",
            "[CV] .................... C=1, gamma=0.001, score=0.900, total=   0.0s\n",
            "[CV] C=1, gamma=0.001 ................................................\n",
            "[CV] .................... C=1, gamma=0.001, score=0.912, total=   0.0s\n",
            "[CV] C=1, gamma=0.001 ................................................\n",
            "[CV] .................... C=1, gamma=0.001, score=0.925, total=   0.0s\n",
            "[CV] C=1, gamma=0.001 ................................................\n",
            "[CV] .................... C=1, gamma=0.001, score=0.962, total=   0.0s\n",
            "[CV] C=1, gamma=0.001 ................................................\n",
            "[CV] .................... C=1, gamma=0.001, score=0.937, total=   0.0s\n",
            "[CV] C=1, gamma=0.0001 ...............................................\n",
            "[CV] ................... C=1, gamma=0.0001, score=0.912, total=   0.0s\n",
            "[CV] C=1, gamma=0.0001 ...............................................\n",
            "[CV] ................... C=1, gamma=0.0001, score=0.950, total=   0.0s\n",
            "[CV] C=1, gamma=0.0001 ...............................................\n",
            "[CV] ................... C=1, gamma=0.0001, score=0.975, total=   0.0s\n",
            "[CV] C=1, gamma=0.0001 ...............................................\n",
            "[CV] ................... C=1, gamma=0.0001, score=0.962, total=   0.0s\n",
            "[CV] C=1, gamma=0.0001 ...............................................\n",
            "[CV] ................... C=1, gamma=0.0001, score=0.937, total=   0.0s\n",
            "[CV] C=10, gamma=1 ...................................................\n",
            "[CV] ....................... C=10, gamma=1, score=0.637, total=   0.0s\n",
            "[CV] C=10, gamma=1 ...................................................\n",
            "[CV] ....................... C=10, gamma=1, score=0.637, total=   0.0s\n",
            "[CV] C=10, gamma=1 ...................................................\n",
            "[CV] ....................... C=10, gamma=1, score=0.625, total=   0.0s\n",
            "[CV] C=10, gamma=1 ...................................................\n",
            "[CV] ....................... C=10, gamma=1, score=0.633, total=   0.0s\n",
            "[CV] C=10, gamma=1 ...................................................\n",
            "[CV] ....................... C=10, gamma=1, score=0.633, total=   0.0s\n",
            "[CV] C=10, gamma=0.1 .................................................\n",
            "[CV] ..................... C=10, gamma=0.1, score=0.637, total=   0.0s\n",
            "[CV] C=10, gamma=0.1 .................................................\n",
            "[CV] ..................... C=10, gamma=0.1, score=0.637, total=   0.0s\n",
            "[CV] C=10, gamma=0.1 .................................................\n",
            "[CV] ..................... C=10, gamma=0.1, score=0.625, total=   0.0s\n",
            "[CV] C=10, gamma=0.1 .................................................\n",
            "[CV] ..................... C=10, gamma=0.1, score=0.633, total=   0.0s\n",
            "[CV] C=10, gamma=0.1 .................................................\n",
            "[CV] ..................... C=10, gamma=0.1, score=0.633, total=   0.0s\n",
            "[CV] C=10, gamma=0.01 ................................................\n",
            "[CV] .................... C=10, gamma=0.01, score=0.637, total=   0.0s\n",
            "[CV] C=10, gamma=0.01 ................................................\n",
            "[CV] .................... C=10, gamma=0.01, score=0.637, total=   0.0s\n",
            "[CV] C=10, gamma=0.01 ................................................\n",
            "[CV] .................... C=10, gamma=0.01, score=0.613, total=   0.0s\n",
            "[CV] C=10, gamma=0.01 ................................................\n",
            "[CV] .................... C=10, gamma=0.01, score=0.633, total=   0.0s\n",
            "[CV] C=10, gamma=0.01 ................................................\n",
            "[CV] .................... C=10, gamma=0.01, score=0.633, total=   0.0s\n",
            "[CV] C=10, gamma=0.001 ...............................................\n",
            "[CV] ................... C=10, gamma=0.001, score=0.887, total=   0.0s\n",
            "[CV] C=10, gamma=0.001 ...............................................\n",
            "[CV] ................... C=10, gamma=0.001, score=0.912, total=   0.0s\n",
            "[CV] C=10, gamma=0.001 ...............................................\n",
            "[CV] ................... C=10, gamma=0.001, score=0.900, total=   0.0s\n",
            "[CV] C=10, gamma=0.001 ...............................................\n",
            "[CV] ................... C=10, gamma=0.001, score=0.937, total=   0.0s\n",
            "[CV] C=10, gamma=0.001 ...............................................\n",
            "[CV] ................... C=10, gamma=0.001, score=0.924, total=   0.0s\n",
            "[CV] C=10, gamma=0.0001 ..............................................\n",
            "[CV] .................. C=10, gamma=0.0001, score=0.950, total=   0.0s\n",
            "[CV] C=10, gamma=0.0001 ..............................................\n",
            "[CV] .................. C=10, gamma=0.0001, score=0.912, total=   0.0s\n",
            "[CV] C=10, gamma=0.0001 ..............................................\n",
            "[CV] .................. C=10, gamma=0.0001, score=0.975, total=   0.0s\n",
            "[CV] C=10, gamma=0.0001 ..............................................\n",
            "[CV] .................. C=10, gamma=0.0001, score=0.949, total=   0.0s\n",
            "[CV] C=10, gamma=0.0001 ..............................................\n",
            "[CV] .................. C=10, gamma=0.0001, score=0.949, total=   0.0s\n",
            "[CV] C=100, gamma=1 ..................................................\n",
            "[CV] ...................... C=100, gamma=1, score=0.637, total=   0.0s\n",
            "[CV] C=100, gamma=1 ..................................................\n",
            "[CV] ...................... C=100, gamma=1, score=0.637, total=   0.0s\n",
            "[CV] C=100, gamma=1 ..................................................\n",
            "[CV] ...................... C=100, gamma=1, score=0.625, total=   0.0s\n",
            "[CV] C=100, gamma=1 ..................................................\n",
            "[CV] ...................... C=100, gamma=1, score=0.633, total=   0.0s\n",
            "[CV] C=100, gamma=1 ..................................................\n",
            "[CV] ...................... C=100, gamma=1, score=0.633, total=   0.0s\n",
            "[CV] C=100, gamma=0.1 ................................................\n",
            "[CV] .................... C=100, gamma=0.1, score=0.637, total=   0.0s\n",
            "[CV] C=100, gamma=0.1 ................................................\n",
            "[CV] .................... C=100, gamma=0.1, score=0.637, total=   0.0s\n",
            "[CV] C=100, gamma=0.1 ................................................\n",
            "[CV] .................... C=100, gamma=0.1, score=0.625, total=   0.0s\n",
            "[CV] C=100, gamma=0.1 ................................................\n",
            "[CV] .................... C=100, gamma=0.1, score=0.633, total=   0.0s\n",
            "[CV] C=100, gamma=0.1 ................................................\n",
            "[CV] .................... C=100, gamma=0.1, score=0.633, total=   0.0s\n",
            "[CV] C=100, gamma=0.01 ...............................................\n",
            "[CV] ................... C=100, gamma=0.01, score=0.637, total=   0.0s\n",
            "[CV] C=100, gamma=0.01 ...............................................\n",
            "[CV] ................... C=100, gamma=0.01, score=0.637, total=   0.0s\n",
            "[CV] C=100, gamma=0.01 ...............................................\n",
            "[CV] ................... C=100, gamma=0.01, score=0.613, total=   0.0s\n",
            "[CV] C=100, gamma=0.01 ...............................................\n",
            "[CV] ................... C=100, gamma=0.01, score=0.633, total=   0.0s\n",
            "[CV] C=100, gamma=0.01 ...............................................\n",
            "[CV] ................... C=100, gamma=0.01, score=0.633, total=   0.0s\n",
            "[CV] C=100, gamma=0.001 ..............................................\n",
            "[CV] .................. C=100, gamma=0.001, score=0.887, total=   0.0s\n",
            "[CV] C=100, gamma=0.001 ..............................................\n",
            "[CV] .................. C=100, gamma=0.001, score=0.912, total=   0.0s\n",
            "[CV] C=100, gamma=0.001 ..............................................\n",
            "[CV] .................. C=100, gamma=0.001, score=0.900, total=   0.0s\n",
            "[CV] C=100, gamma=0.001 ..............................................\n",
            "[CV] .................. C=100, gamma=0.001, score=0.937, total=   0.0s\n",
            "[CV] C=100, gamma=0.001 ..............................................\n",
            "[CV] .................. C=100, gamma=0.001, score=0.924, total=   0.0s\n",
            "[CV] C=100, gamma=0.0001 .............................................\n",
            "[CV] ................. C=100, gamma=0.0001, score=0.925, total=   0.0s\n",
            "[CV] C=100, gamma=0.0001 .............................................\n",
            "[CV] ................. C=100, gamma=0.0001, score=0.912, total=   0.0s\n",
            "[CV] C=100, gamma=0.0001 .............................................\n",
            "[CV] ................. C=100, gamma=0.0001, score=0.975, total=   0.0s\n",
            "[CV] C=100, gamma=0.0001 .............................................\n",
            "[CV] ................. C=100, gamma=0.0001, score=0.937, total=   0.0s\n",
            "[CV] C=100, gamma=0.0001 .............................................\n",
            "[CV] ................. C=100, gamma=0.0001, score=0.949, total=   0.0s\n",
            "[CV] C=1000, gamma=1 .................................................\n",
            "[CV] ..................... C=1000, gamma=1, score=0.637, total=   0.0s\n",
            "[CV] C=1000, gamma=1 .................................................\n",
            "[CV] ..................... C=1000, gamma=1, score=0.637, total=   0.0s\n",
            "[CV] C=1000, gamma=1 .................................................\n",
            "[CV] ..................... C=1000, gamma=1, score=0.625, total=   0.0s\n",
            "[CV] C=1000, gamma=1 .................................................\n",
            "[CV] ..................... C=1000, gamma=1, score=0.633, total=   0.0s\n",
            "[CV] C=1000, gamma=1 .................................................\n",
            "[CV] ..................... C=1000, gamma=1, score=0.633, total=   0.0s\n",
            "[CV] C=1000, gamma=0.1 ...............................................\n",
            "[CV] ................... C=1000, gamma=0.1, score=0.637, total=   0.0s\n",
            "[CV] C=1000, gamma=0.1 ...............................................\n",
            "[CV] ................... C=1000, gamma=0.1, score=0.637, total=   0.0s\n",
            "[CV] C=1000, gamma=0.1 ...............................................\n",
            "[CV] ................... C=1000, gamma=0.1, score=0.625, total=   0.0s\n",
            "[CV] C=1000, gamma=0.1 ...............................................\n",
            "[CV] ................... C=1000, gamma=0.1, score=0.633, total=   0.0s\n",
            "[CV] C=1000, gamma=0.1 ...............................................\n",
            "[CV] ................... C=1000, gamma=0.1, score=0.633, total=   0.0s\n",
            "[CV] C=1000, gamma=0.01 ..............................................\n",
            "[CV] .................. C=1000, gamma=0.01, score=0.637, total=   0.0s\n",
            "[CV] C=1000, gamma=0.01 ..............................................\n",
            "[CV] .................. C=1000, gamma=0.01, score=0.637, total=   0.0s\n",
            "[CV] C=1000, gamma=0.01 ..............................................\n",
            "[CV] .................. C=1000, gamma=0.01, score=0.613, total=   0.0s\n",
            "[CV] C=1000, gamma=0.01 ..............................................\n",
            "[CV] .................. C=1000, gamma=0.01, score=0.633, total=   0.0s\n",
            "[CV] C=1000, gamma=0.01 ..............................................\n",
            "[CV] .................. C=1000, gamma=0.01, score=0.633, total=   0.0s\n",
            "[CV] C=1000, gamma=0.001 .............................................\n",
            "[CV] ................. C=1000, gamma=0.001, score=0.887, total=   0.0s\n",
            "[CV] C=1000, gamma=0.001 .............................................\n",
            "[CV] ................. C=1000, gamma=0.001, score=0.912, total=   0.0s\n",
            "[CV] C=1000, gamma=0.001 .............................................\n",
            "[CV] ................. C=1000, gamma=0.001, score=0.900, total=   0.0s\n",
            "[CV] C=1000, gamma=0.001 .............................................\n",
            "[CV] ................. C=1000, gamma=0.001, score=0.937, total=   0.0s\n",
            "[CV] C=1000, gamma=0.001 .............................................\n",
            "[CV] ................. C=1000, gamma=0.001, score=0.924, total=   0.0s\n",
            "[CV] C=1000, gamma=0.0001 ............................................\n",
            "[CV] ................ C=1000, gamma=0.0001, score=0.938, total=   0.0s\n",
            "[CV] C=1000, gamma=0.0001 ............................................\n",
            "[CV] ................ C=1000, gamma=0.0001, score=0.912, total=   0.0s\n",
            "[CV] C=1000, gamma=0.0001 ............................................\n",
            "[CV] ................ C=1000, gamma=0.0001, score=0.963, total=   0.0s\n",
            "[CV] C=1000, gamma=0.0001 ............................................\n",
            "[CV] ................ C=1000, gamma=0.0001, score=0.924, total=   0.0s\n",
            "[CV] C=1000, gamma=0.0001 ............................................\n",
            "[CV] ................ C=1000, gamma=0.0001, score=0.962, total=   0.0s\n"
          ],
          "name": "stdout"
        },
        {
          "output_type": "stream",
          "text": [
            "[Parallel(n_jobs=1)]: Done 125 out of 125 | elapsed:    1.6s finished\n"
          ],
          "name": "stderr"
        },
        {
          "output_type": "execute_result",
          "data": {
            "text/plain": [
              "GridSearchCV(cv=None, error_score=nan,\n",
              "             estimator=SVC(C=1.0, break_ties=False, cache_size=200,\n",
              "                           class_weight=None, coef0=0.0,\n",
              "                           decision_function_shape='ovr', degree=3,\n",
              "                           gamma='scale', kernel='rbf', max_iter=-1,\n",
              "                           probability=False, random_state=None, shrinking=True,\n",
              "                           tol=0.001, verbose=False),\n",
              "             iid='deprecated', n_jobs=None,\n",
              "             param_grid={'C': [0.1, 1, 10, 100, 1000],\n",
              "                         'gamma': [1, 0.1, 0.01, 0.001, 0.0001]},\n",
              "             pre_dispatch='2*n_jobs', refit=True, return_train_score=False,\n",
              "             scoring=None, verbose=3)"
            ]
          },
          "metadata": {
            "tags": []
          },
          "execution_count": 31
        }
      ]
    },
    {
      "cell_type": "code",
      "metadata": {
        "id": "SV4ZssfW41V2",
        "colab_type": "code",
        "colab": {
          "base_uri": "https://localhost:8080/",
          "height": 34
        },
        "outputId": "26953b0f-b0d5-4c94-cf48-2ab285fcb89d"
      },
      "source": [
        "grid.best_params_"
      ],
      "execution_count": 32,
      "outputs": [
        {
          "output_type": "execute_result",
          "data": {
            "text/plain": [
              "{'C': 1, 'gamma': 0.0001}"
            ]
          },
          "metadata": {
            "tags": []
          },
          "execution_count": 32
        }
      ]
    },
    {
      "cell_type": "code",
      "metadata": {
        "id": "81zsaLIh5CfU",
        "colab_type": "code",
        "colab": {
          "base_uri": "https://localhost:8080/",
          "height": 84
        },
        "outputId": "fbd09784-6fcf-45b2-ce74-39726015f9e9"
      },
      "source": [
        "grid.best_estimator_"
      ],
      "execution_count": 33,
      "outputs": [
        {
          "output_type": "execute_result",
          "data": {
            "text/plain": [
              "SVC(C=1, break_ties=False, cache_size=200, class_weight=None, coef0=0.0,\n",
              "    decision_function_shape='ovr', degree=3, gamma=0.0001, kernel='rbf',\n",
              "    max_iter=-1, probability=False, random_state=None, shrinking=True,\n",
              "    tol=0.001, verbose=False)"
            ]
          },
          "metadata": {
            "tags": []
          },
          "execution_count": 33
        }
      ]
    },
    {
      "cell_type": "code",
      "metadata": {
        "id": "RBAaXBr15Vrv",
        "colab_type": "code",
        "colab": {}
      },
      "source": [
        "grid_predictions=grid.predict(X_test)"
      ],
      "execution_count": 0,
      "outputs": []
    },
    {
      "cell_type": "code",
      "metadata": {
        "id": "SVcF_ruw5avn",
        "colab_type": "code",
        "colab": {
          "base_uri": "https://localhost:8080/",
          "height": 235
        },
        "outputId": "3a37f664-1f47-41b7-ded1-48119e55967e"
      },
      "source": [
        "from sklearn.metrics import confusion_matrix,classification_report\n",
        "print(confusion_matrix(y_test,grid_predictions))\n",
        "print('\\n')\n",
        "print(classification_report(y_test,grid_predictions))"
      ],
      "execution_count": 35,
      "outputs": [
        {
          "output_type": "stream",
          "text": [
            "[[ 59   7]\n",
            " [  4 101]]\n",
            "\n",
            "\n",
            "              precision    recall  f1-score   support\n",
            "\n",
            "           0       0.94      0.89      0.91        66\n",
            "           1       0.94      0.96      0.95       105\n",
            "\n",
            "    accuracy                           0.94       171\n",
            "   macro avg       0.94      0.93      0.93       171\n",
            "weighted avg       0.94      0.94      0.94       171\n",
            "\n"
          ],
          "name": "stdout"
        }
      ]
    },
    {
      "cell_type": "code",
      "metadata": {
        "id": "jZ4B4zsA5yzm",
        "colab_type": "code",
        "colab": {}
      },
      "source": [
        ""
      ],
      "execution_count": 0,
      "outputs": []
    }
  ]
}